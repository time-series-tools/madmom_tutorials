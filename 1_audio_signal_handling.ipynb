{
 "cells": [
  {
   "cell_type": "markdown",
   "metadata": {},
   "source": [
    "# Madmom tutorial\n",
    "\n",
    "This tutorial explains some of the basic design patterns of `madmom`.\n",
    "\n",
    "Before we start, we have to import some packages:"
   ]
  },
  {
   "cell_type": "code",
   "execution_count": 1,
   "metadata": {
    "collapsed": false
   },
   "outputs": [],
   "source": [
    "%matplotlib inline\n",
    "\n",
    "import numpy as np\n",
    "import matplotlib.pyplot as plt\n",
    "\n",
    "import madmom"
   ]
  },
  {
   "cell_type": "markdown",
   "metadata": {},
   "source": [
    "## Functions / classes\n",
    "\n",
    "One of the basic design principles of `madmom` is to provide the same functionality both on functions as well as on class level. The classes provide the same functionality but at the next higher abstraction layer. The main differences are:\n",
    "\n",
    "* functions can return multiple values or a tuple\n",
    "* classes encapsulate these additional values as attributes\n",
    "* functions usually operate on and return numpy arrays\n",
    "* classes are usually subclasses of numpy arrays, i.e. they can be used like numpy arrays\n",
    "* functions require the input data to be of a specific type\n",
    "* classes can handle various input types\n",
    "\n",
    "All these features will be discussed in this tutorial.\n"
   ]
  },
  {
   "cell_type": "markdown",
   "metadata": {},
   "source": [
    "## Loading an audio file\n",
    "\n",
    "Since `madmom` is a library with a strong focus on music information retrival (MIR), let's first load an audio file.\n",
    "The `load_wave_file` function returns a memory mapped numpy array of the audio file and the sample_rate as an integer value."
   ]
  },
  {
   "cell_type": "code",
   "execution_count": 2,
   "metadata": {
    "collapsed": false
   },
   "outputs": [
    {
     "data": {
      "text/plain": [
       "(memmap([-2494, -2510, -2484, ...,   520,   655,   639], dtype=int16), 44100)"
      ]
     },
     "execution_count": 2,
     "metadata": {},
     "output_type": "execute_result"
    }
   ],
   "source": [
    "signal, sample_rate = madmom.audio.signal.load_wave_file('data/sample.wav')\n",
    "signal, sample_rate"
   ]
  },
  {
   "cell_type": "markdown",
   "metadata": {},
   "source": [
    "#### Classes provide the same functionality as functions but add some abstraction\n",
    "A `Signal` object is basically the same as the returned `signal` array but it is enhanced with the the `sample_rate` as an attribute:"
   ]
  },
  {
   "cell_type": "code",
   "execution_count": 3,
   "metadata": {
    "collapsed": false
   },
   "outputs": [
    {
     "data": {
      "text/plain": [
       "(Signal([-2494, -2510, -2484, ...,   520,   655,   639], dtype=int16), 44100)"
      ]
     },
     "execution_count": 3,
     "metadata": {},
     "output_type": "execute_result"
    }
   ],
   "source": [
    "sig = madmom.audio.signal.Signal('data/sample.wav')\n",
    "sig, sig.sample_rate"
   ]
  },
  {
   "cell_type": "markdown",
   "metadata": {},
   "source": [
    "The class uses exactly the same function to load the aufio file, but it encapsulates the sample rate as an attribute of the object. Since the sample rate is important for a lot of consecutive calculations (e.g. to determine the bin frequencies of a STFT) it is necessary to keep it around, but when using the `Signal` class, there is no need to pass it to all the functions which depend on the sample rate of the signal as a separate variable. The `Signal` class takes care of this automatically (or: the other classes are smart enough to access it correctly).\n"
   ]
  },
  {
   "cell_type": "markdown",
   "metadata": {},
   "source": [
    "#### Classes are subclasses of numpy arrays\n",
    "The `Signal` class is a subclass of a numpy array, i.e. it can be used exactly the same way as any numpy array. \n",
    "\n",
    "\n"
   ]
  },
  {
   "cell_type": "markdown",
   "metadata": {},
   "source": [
    "## Framing an audio signal\n",
    "\n",
    "We can then split the signal into overlapping frames. Again, there is both a function and a class performing the same task. Since we consider the classes the more convenient way, we use only them in the ongoing. A look into the source code helps you to discover the equivalent function :)\n",
    "\n",
    "To split the signal into frames of 2048 samples length which overlap by 441 samples, we use the existing `Signal` object as the first argument for instantiation of the `FramedSignal` object."
   ]
  },
  {
   "cell_type": "code",
   "execution_count": 4,
   "metadata": {
    "collapsed": false
   },
   "outputs": [
    {
     "data": {
      "text/plain": [
       "<madmom.audio.signal.FramedSignal at 0x113362128>"
      ]
     },
     "execution_count": 4,
     "metadata": {},
     "output_type": "execute_result"
    }
   ],
   "source": [
    "fs = madmom.audio.signal.FramedSignal(sig, frame_size=2048, hop_size=441)\n",
    "fs"
   ]
  },
  {
   "cell_type": "markdown",
   "metadata": {},
   "source": [
    "#### If classes are not subclasses of numpy arrays, they behave similar\n",
    "\n",
    "The `FramedSignal` is implemented as an indexable/iterable class, so we can access the individual frames exactly like a numpy array, e.g. slice the signal. The only difference is that the index -1 does not refer to the last frame, but to the frame left of the first one.\n",
    "\n",
    "Note: the reason why the `FramedSignal` is implemented this way and not as a strided view on the signal numpy array is that we also want to be able to use float hop sizes, e.g. to get a constant frame rate. E.g. to get a frame rate of 200, we could either set the `hop_size` to 220.5 samples or simply pass the `fps` argument instead.\n"
   ]
  },
  {
   "cell_type": "code",
   "execution_count": 5,
   "metadata": {
    "collapsed": false
   },
   "outputs": [
    {
     "data": {
      "text/plain": [
       "<madmom.audio.signal.FramedSignal at 0x113362048>"
      ]
     },
     "execution_count": 5,
     "metadata": {},
     "output_type": "execute_result"
    }
   ],
   "source": [
    "fs_200 = madmom.audio.signal.FramedSignal(sig, frame_size=2048, fps=200)\n",
    "fs_200"
   ]
  },
  {
   "cell_type": "code",
   "execution_count": 6,
   "metadata": {
    "collapsed": false
   },
   "outputs": [
    {
     "data": {
      "text/plain": [
       "(100.0,\n",
       " 441.0,\n",
       " Signal([    0,     0,     0, ..., -4553, -4666, -4589], dtype=int16))"
      ]
     },
     "execution_count": 6,
     "metadata": {},
     "output_type": "execute_result"
    }
   ],
   "source": [
    "fs.frame_rate, fs.hop_size, fs[0]"
   ]
  },
  {
   "cell_type": "code",
   "execution_count": 7,
   "metadata": {
    "collapsed": false
   },
   "outputs": [
    {
     "data": {
      "text/plain": [
       "(200.0,\n",
       " 220.5,\n",
       " Signal([    0,     0,     0, ..., -4553, -4666, -4589], dtype=int16))"
      ]
     },
     "execution_count": 7,
     "metadata": {},
     "output_type": "execute_result"
    }
   ],
   "source": [
    "fs_200.frame_rate, fs_200.hop_size, fs_200[0]"
   ]
  },
  {
   "cell_type": "markdown",
   "metadata": {},
   "source": [
    "The `fps` argument is converted into the appropriate `hop_size`. This conversion could be performed automatically since the `Signal` object has also the needed the sample rate. Thus constant frame rates could be achieved independently of the sample rate of the signal. No need to resample all audio files to the same sample rate beforehand."
   ]
  },
  {
   "cell_type": "markdown",
   "metadata": {},
   "source": [
    "#### Automatic object instantiation\n",
    "Another design feature of the classes is that if they are instantiated with an argument which they don't expect, they try to create an instance of what they expect. E.g. the `FramedSignal` expects a `Signal` instance as the first argument, but we can also pass a file name instead. The `FramedSignal` then instantiates a `Signal` object:"
   ]
  },
  {
   "cell_type": "code",
   "execution_count": 8,
   "metadata": {
    "collapsed": true
   },
   "outputs": [],
   "source": [
    "fs_ = madmom.audio.signal.FramedSignal('data/sample.wav')"
   ]
  },
  {
   "cell_type": "markdown",
   "metadata": {},
   "source": [
    "A reference to the automatically instantiated `Signal` object is kept as the `signal` attribute."
   ]
  },
  {
   "cell_type": "code",
   "execution_count": 9,
   "metadata": {
    "collapsed": false
   },
   "outputs": [
    {
     "data": {
      "text/plain": [
       "Signal([-2494, -2510, -2484, ...,   520,   655,   639], dtype=int16)"
      ]
     },
     "execution_count": 9,
     "metadata": {},
     "output_type": "execute_result"
    }
   ],
   "source": [
    "fs_.signal"
   ]
  },
  {
   "cell_type": "code",
   "execution_count": 10,
   "metadata": {
    "collapsed": false
   },
   "outputs": [
    {
     "data": {
      "text/plain": [
       "(100.0,\n",
       " 441.0,\n",
       " Signal([    0,     0,     0, ..., -4553, -4666, -4589], dtype=int16))"
      ]
     },
     "execution_count": 10,
     "metadata": {},
     "output_type": "execute_result"
    }
   ],
   "source": [
    "fs_.frame_rate, fs_.hop_size, fs_[0]"
   ]
  },
  {
   "cell_type": "markdown",
   "metadata": {},
   "source": [
    "All three ways of obtaining a `FramedSignal` instance are equivalent."
   ]
  },
  {
   "cell_type": "markdown",
   "metadata": {},
   "source": [
    "## Complex STFT\n",
    "\n",
    "Based on this `FramedSignal` we can now continue to calculate the `STFT` of it. The `STFT` class is (of course) a subclass of a numpy array, i.e. it has a `dtype`, can be sliced, transposed etc.."
   ]
  },
  {
   "cell_type": "code",
   "execution_count": 11,
   "metadata": {
    "collapsed": false
   },
   "outputs": [
    {
     "data": {
      "text/plain": [
       "ShortTimeFourierTransform([[-3.15249181 +0.00000000e+00j,  2.62215710 -3.02424717e+00j,\n",
       "         0.96471846 +5.57876539e+00j, ...,  0.03642104 -3.61841870e-04j,\n",
       "        -0.03633529 -5.19269597e-05j,  0.03670426 +2.85875227e-04j],\n",
       "       [-4.28428888 +0.00000000e+00j,  2.02009392 +2.01263618e+00j,\n",
       "        -1.54068637 -8.30089092e+00j, ...,  0.01295261 -1.75991822e-02j,\n",
       "        -0.01980834 -9.33106802e-03j, -0.00536164 +2.16161963e-02j]], dtype=complex64)"
      ]
     },
     "execution_count": 11,
     "metadata": {},
     "output_type": "execute_result"
    }
   ],
   "source": [
    "stft = madmom.audio.stft.STFT(fs)\n",
    "stft[0:2]"
   ]
  },
  {
   "cell_type": "markdown",
   "metadata": {},
   "source": [
    "## Magnitude Spectrogram\n",
    "More often than the complex `STFT`, the magnitudes of it are used for MIR tasks. Magnitude spectrograms are represented by the `Spectrogram` class."
   ]
  },
  {
   "cell_type": "code",
   "execution_count": 12,
   "metadata": {
    "collapsed": true
   },
   "outputs": [],
   "source": [
    "spec = madmom.audio.spectrogram.Spectrogram(stft)"
   ]
  },
  {
   "cell_type": "code",
   "execution_count": 13,
   "metadata": {
    "collapsed": false
   },
   "outputs": [
    {
     "data": {
      "text/plain": [
       "<matplotlib.image.AxesImage at 0x113ed2be0>"
      ]
     },
     "execution_count": 13,
     "metadata": {},
     "output_type": "execute_result"
    },
    {
     "data": {
      "image/png": "[encoded data removed]",
      "text/plain": [
       "<matplotlib.figure.Figure at 0x113ad1f98>"
      ]
     },
     "metadata": {},
     "output_type": "display_data"
    }
   ],
   "source": [
    "plt.imshow(spec[:, :200].T, aspect='auto', origin='lower')"
   ]
  },
  {
   "cell_type": "markdown",
   "metadata": {},
   "source": [
    "As before, although the `Spectrogram` class expects a `STFT` instance as its only argument, we could also have passed any other data to it as long as a `STFT` object can be instantiated from it. This can be a `FramedSignal` or `Signal` instance or just a file name (or file handle).\n",
    "\n",
    "Additional keywords are passed accordingly, i.e. we can get the magnitude spectrogram of a file with a frame size of 2048 samples, a hop size of 200 samples, a FFT size of 4096 samples simple as:"
   ]
  },
  {
   "cell_type": "code",
   "execution_count": 14,
   "metadata": {
    "collapsed": false
   },
   "outputs": [],
   "source": [
    "spec = madmom.audio.spectrogram.Spectrogram('data/sample.wav', frame_size=2048, hop_size=200, fft_size=4096)"
   ]
  },
  {
   "cell_type": "code",
   "execution_count": 15,
   "metadata": {
    "collapsed": false
   },
   "outputs": [
    {
     "data": {
      "text/plain": [
       "((618, 2048), array([  0.00000000e+00,   1.07666016e+01,   2.15332031e+01, ...,\n",
       "          2.20177002e+04,   2.20284668e+04,   2.20392334e+04]))"
      ]
     },
     "execution_count": 15,
     "metadata": {},
     "output_type": "execute_result"
    }
   ],
   "source": [
    "spec.shape, spec.bin_frequencies"
   ]
  },
  {
   "cell_type": "markdown",
   "metadata": {},
   "source": [
    "Additionally, the `Spectrogram` class also keeps their underlying objects as attributes, e.g. the factor to which the individual frames overlap, can be accessed as if we go up the instantiation chain."
   ]
  },
  {
   "cell_type": "code",
   "execution_count": 16,
   "metadata": {
    "collapsed": false
   },
   "outputs": [
    {
     "data": {
      "text/plain": [
       "0.90234375"
      ]
     },
     "execution_count": 16,
     "metadata": {},
     "output_type": "execute_result"
    }
   ],
   "source": [
    "spec.stft.frames.overlap_factor"
   ]
  },
  {
   "cell_type": "markdown",
   "metadata": {},
   "source": [
    "For a complete list of attributes and methods of the classes, please refer to the API documentation. These are just the basic things needed to continue with other (higher level) tasks."
   ]
  }
 ],
 "metadata": {
  "kernelspec": {
   "display_name": "Python 2",
   "language": "python",
   "name": "python2"
  },
  "language_info": {
   "codemirror_mode": {
    "name": "ipython",
    "version": 2
   },
   "file_extension": ".py",
   "mimetype": "text/x-python",
   "name": "python",
   "nbconvert_exporter": "python",
   "pygments_lexer": "ipython2",
   "version": "2.7.11"
  }
 },
 "nbformat": 4,
 "nbformat_minor": 0
}
